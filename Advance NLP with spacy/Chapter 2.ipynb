{
 "cells": [
  {
   "cell_type": "markdown",
   "id": "aggressive-bearing",
   "metadata": {},
   "source": [
    "# **Chapter 2**"
   ]
  },
  {
   "cell_type": "markdown",
   "id": "hourly-validation",
   "metadata": {},
   "source": [
    "# Large-scale data analysis with spaCy"
   ]
  },
  {
   "cell_type": "markdown",
   "id": "dominican-therapy",
   "metadata": {},
   "source": [
    "## Data Structures : Vocab, Lexeme and String Store"
   ]
  },
  {
   "cell_type": "code",
   "execution_count": 1,
   "id": "caring-management",
   "metadata": {},
   "outputs": [],
   "source": [
    "from spacy.lang.en import English\n",
    "nlp = English()\n",
    "\n",
    "doc = nlp('I Love Coffee')"
   ]
  },
  {
   "cell_type": "code",
   "execution_count": 2,
   "id": "balanced-video",
   "metadata": {},
   "outputs": [
    {
     "name": "stdout",
     "output_type": "stream",
     "text": [
      "Hash Value: 3474706295102377020\n"
     ]
    }
   ],
   "source": [
    "# Vocab\n",
    "\n",
    "print('Hash Value:', nlp.vocab.strings['Coffee'])"
   ]
  },
  {
   "cell_type": "code",
   "execution_count": 3,
   "id": "statistical-humanity",
   "metadata": {},
   "outputs": [
    {
     "name": "stdout",
     "output_type": "stream",
     "text": [
      "String Value: Coffee\n"
     ]
    }
   ],
   "source": [
    "# String store\n",
    "\n",
    "print('String Value:', nlp.vocab.strings[3474706295102377020])"
   ]
  },
  {
   "cell_type": "code",
   "execution_count": 4,
   "id": "reverse-there",
   "metadata": {},
   "outputs": [
    {
     "name": "stdout",
     "output_type": "stream",
     "text": [
      "Coffee 3474706295102377020 True\n"
     ]
    }
   ],
   "source": [
    "# Lexeme\n",
    "\n",
    "lexeme = nlp.vocab['Coffee']\n",
    "print(lexeme.text, lexeme.orth, lexeme.is_alpha)"
   ]
  },
  {
   "cell_type": "markdown",
   "id": "following-event",
   "metadata": {},
   "source": [
    "## Data Structures: Doc, Span, Token"
   ]
  },
  {
   "cell_type": "code",
   "execution_count": 5,
   "id": "industrial-arrest",
   "metadata": {},
   "outputs": [
    {
     "data": {
      "text/plain": [
       "spacy.tokens.doc.Doc"
      ]
     },
     "execution_count": 5,
     "metadata": {},
     "output_type": "execute_result"
    }
   ],
   "source": [
    "# Creating Doc manually\n",
    "\n",
    "from spacy.lang.en import English\n",
    "nlp = English()\n",
    "\n",
    "from spacy.tokens import Doc\n",
    "\n",
    "words = ['Hello', 'world', '!']\n",
    "spaces = [True, False, False]\n",
    "\n",
    "doc = Doc(nlp.vocab, words = words, spaces = spaces)\n",
    "\n",
    "type(doc)"
   ]
  },
  {
   "cell_type": "code",
   "execution_count": 6,
   "id": "remarkable-upper",
   "metadata": {},
   "outputs": [
    {
     "data": {
      "text/plain": [
       "spacy.tokens.doc.Doc"
      ]
     },
     "execution_count": 6,
     "metadata": {},
     "output_type": "execute_result"
    }
   ],
   "source": [
    "# Creating Doc manually\n",
    "\n",
    "from spacy.lang.en import English\n",
    "nlp = English()\n",
    "\n",
    "doc = nlp('Hello World!')\n",
    "\n",
    "type(doc)"
   ]
  },
  {
   "cell_type": "code",
   "execution_count": 7,
   "id": "worthy-architect",
   "metadata": {},
   "outputs": [
    {
     "name": "stdout",
     "output_type": "stream",
     "text": [
      "Hello world\n",
      "<class 'spacy.tokens.span.Span'>\n"
     ]
    }
   ],
   "source": [
    "# Creating Span manually\n",
    "\n",
    "from spacy.lang.en import English\n",
    "nlp = English()\n",
    "\n",
    "from spacy.tokens import Doc, Span\n",
    "\n",
    "words = ['Hello', 'world', '!']\n",
    "spaces = [True, False, False]\n",
    "\n",
    "doc = Doc(nlp.vocab, words = words, spaces = spaces)\n",
    "\n",
    "span = Span(doc, 0, 2)\n",
    "\n",
    "print(span)\n",
    "print(type(span))\n"
   ]
  },
  {
   "cell_type": "code",
   "execution_count": 8,
   "id": "alleged-melissa",
   "metadata": {},
   "outputs": [
    {
     "name": "stdout",
     "output_type": "stream",
     "text": [
      "Hello World!,\n",
      "<class 'spacy.tokens.span.Span'>\n"
     ]
    }
   ],
   "source": [
    "# Creating Span manually\n",
    "\n",
    "from spacy.lang.en import English\n",
    "nlp = English()\n",
    "\n",
    "doc = nlp('Hello World!, How are you')\n",
    "\n",
    "span = doc[0:4]\n",
    "\n",
    "print(span)\n",
    "print(type(span))"
   ]
  },
  {
   "cell_type": "markdown",
   "id": "filled-personal",
   "metadata": {},
   "source": [
    "## Word vectors and Semantic Similarity"
   ]
  },
  {
   "cell_type": "markdown",
   "id": "alike-peter",
   "metadata": {},
   "source": [
    "1) we can use Doc.similarity() , Span.similarity() , token.similarity() \n",
    "2) Similarity score is 0 to 1\n",
    "3) use 'en_core_web_md' for medium models (to download open cmd and run this : python -m spacy download en_core_web_lg)\n",
    "3) use 'en_core_web_lg' for large models (to download open cmd and run this : python -m spacy download en_core_web_lg)\n",
    "3) Don't use 'en_core_web_sm' for finding similarity (to download open cmd and run this : python -m spacy download en_core_web_sm)"
   ]
  },
  {
   "cell_type": "code",
   "execution_count": 9,
   "id": "passive-communications",
   "metadata": {},
   "outputs": [
    {
     "name": "stdout",
     "output_type": "stream",
     "text": [
      "0.8627204117787385\n"
     ]
    }
   ],
   "source": [
    "import en_core_web_md\n",
    "\n",
    "nlp = en_core_web_md.load()\n",
    "\n",
    "doc1 = nlp('I like fast food')\n",
    "doc2 = nlp('I like pizza')\n",
    "\n",
    "print(doc1.similarity(doc2))"
   ]
  },
  {
   "cell_type": "code",
   "execution_count": 10,
   "id": "dying-documentation",
   "metadata": {},
   "outputs": [
    {
     "name": "stdout",
     "output_type": "stream",
     "text": [
      "0.7369546\n"
     ]
    }
   ],
   "source": [
    "doc = nlp('I like pizza and pasta')\n",
    "\n",
    "token1 = doc[2]\n",
    "token2 = doc[4]\n",
    "\n",
    "print(token1.similarity(token2))"
   ]
  },
  {
   "cell_type": "code",
   "execution_count": 11,
   "id": "subject-testing",
   "metadata": {},
   "outputs": [
    {
     "name": "stdout",
     "output_type": "stream",
     "text": [
      "0.32531983166759537\n"
     ]
    }
   ],
   "source": [
    "doc = nlp('I like pizza')\n",
    "token = nlp('Soap')[0]\n",
    "\n",
    "print(doc.similarity(token))"
   ]
  },
  {
   "cell_type": "code",
   "execution_count": 12,
   "id": "contemporary-anger",
   "metadata": {},
   "outputs": [
    {
     "name": "stdout",
     "output_type": "stream",
     "text": [
      "0.6199092090831612\n"
     ]
    }
   ],
   "source": [
    "span = nlp('I like pizza and pasta')[2:5]\n",
    "doc = nlp('McDonalds sells burgers')\n",
    "\n",
    "print(span.similarity(doc))"
   ]
  },
  {
   "cell_type": "markdown",
   "id": "positive-chuck",
   "metadata": {},
   "source": [
    "Similarity is used in recomendation systems, flagging duplicates ...etc"
   ]
  },
  {
   "cell_type": "markdown",
   "id": "previous-germany",
   "metadata": {},
   "source": [
    "## how similarity is find out"
   ]
  },
  {
   "cell_type": "markdown",
   "id": "collected-pittsburgh",
   "metadata": {},
   "source": [
    "* Ans : Word vector\n",
    "* Default : is Cosine Similarity (but can be adjusted"
   ]
  },
  {
   "cell_type": "code",
   "execution_count": 13,
   "id": "swiss-scott",
   "metadata": {},
   "outputs": [
    {
     "name": "stdout",
     "output_type": "stream",
     "text": [
      "[ 1.8733e-01  4.0595e-01 -5.1174e-01 -5.5482e-01  3.9716e-02  1.2887e-01\n",
      "  4.5137e-01 -5.9149e-01  1.5591e-01  1.5137e+00 -8.7020e-01  5.0672e-02\n",
      "  1.5211e-01 -1.9183e-01  1.1181e-01  1.2131e-01 -2.7212e-01  1.6203e+00\n",
      " -2.4884e-01  1.4060e-01  3.3099e-01 -1.8061e-02  1.5244e-01 -2.6943e-01\n",
      " -2.7833e-01 -5.2123e-02 -4.8149e-01 -5.1839e-01  8.6262e-02  3.0818e-02\n",
      " -2.1253e-01 -1.1378e-01 -2.2384e-01  1.8262e-01 -3.4541e-01  8.2611e-02\n",
      "  1.0024e-01 -7.9550e-02 -8.1721e-01  6.5621e-03  8.0134e-02 -3.9976e-01\n",
      " -6.3131e-02  3.2260e-01 -3.1625e-02  4.3056e-01 -2.7270e-01 -7.6020e-02\n",
      "  1.0293e-01 -8.8653e-02 -2.9087e-01 -4.7214e-02  4.6036e-02 -1.7788e-02\n",
      "  6.4990e-02  8.8451e-02 -3.1574e-01 -5.8522e-01  2.2295e-01 -5.2785e-02\n",
      " -5.5981e-01 -3.9580e-01 -7.9849e-02 -1.0933e-02 -4.1722e-02 -5.5576e-01\n",
      "  8.8707e-02  1.3710e-01 -2.9873e-03 -2.6256e-02  7.7330e-02  3.9199e-01\n",
      "  3.4507e-01 -8.0130e-02  3.3451e-01  2.7063e-01 -2.4544e-02  7.2576e-02\n",
      " -1.8120e-01  2.3693e-01  3.9977e-01  4.5012e-01  2.7179e-02  2.7400e-01\n",
      "  1.4791e-01 -5.8324e-03  9.5910e-01 -1.0129e+00  2.0699e-01  1.8237e-01\n",
      " -2.5234e-01 -2.6261e-01 -3.4799e-01 -2.4051e-02  4.4470e-01  5.9226e-02\n",
      "  4.5561e-01  1.9700e-01 -4.8327e-01  8.9523e-02 -2.2373e-01 -1.5654e-01\n",
      "  2.1578e-01  1.1673e-01  8.2006e-02 -8.0735e-01  2.3903e-01 -5.1304e-01\n",
      " -3.3888e-01 -3.1499e-01 -1.7272e-01 -6.7020e-01  2.7096e-01 -4.3241e-01\n",
      "  4.3103e-02  2.1233e-02  1.3350e-02 -6.3938e-02 -2.4957e-01 -2.4938e-01\n",
      "  3.4812e-01 -7.1321e-02  2.3375e-01 -9.5384e-02  5.2488e-01  6.8175e-01\n",
      " -1.0214e-01 -1.4914e-01 -7.5697e-02  1.7248e-01  2.5440e-01  1.5760e-01\n",
      " -5.9125e-01  2.4300e-01  6.3962e-01 -9.3280e-02 -2.7914e-01 -6.6262e-02\n",
      " -6.7170e-02 -4.0929e-01 -3.0300e+00  1.8250e-01  2.0113e-01  6.0628e-02\n",
      " -2.4769e-01  5.5324e-02 -4.9106e-01  3.1544e-01 -3.4231e-01 -6.3766e-01\n",
      " -3.6129e-01 -5.9029e-02  1.5510e-01  4.4577e-02  2.3572e-01 -1.7095e-01\n",
      " -2.2749e-01 -2.3184e-02  2.3868e-01  2.8170e-02  4.2965e-01 -1.2458e-01\n",
      " -3.6972e-02  2.0061e-01 -3.1405e-01 -8.5287e-02 -3.3496e-01 -9.7047e-02\n",
      " -1.4388e-01  1.1147e-01 -4.5232e-01 -2.4217e-01 -1.8245e-01 -6.7292e-01\n",
      "  2.1933e-02 -5.4816e-02 -4.6508e-01  4.7767e-01 -2.4752e-01 -1.5790e-01\n",
      "  1.1817e-01  5.6851e-02 -4.9151e-01  1.5496e-01  1.6425e-02  4.1650e-02\n",
      " -3.4990e-01 -1.5979e-01  3.9705e-01  2.2963e-01  2.4688e-01  1.9567e-02\n",
      " -2.8802e-01 -6.9983e-01  3.2744e-01  1.0833e-01  2.4945e-01 -7.8653e-01\n",
      " -6.1379e-02 -3.7359e-01 -1.1603e-01 -2.4950e-01  1.0161e-01  3.3994e-02\n",
      "  1.5650e-01  2.1344e-01 -1.1094e-01 -5.7687e-03  1.7869e-01 -1.0127e-01\n",
      " -1.6891e-02  3.0001e-01 -3.4116e-01 -3.2390e-02  4.2514e-02  1.1850e-01\n",
      " -1.8337e-01 -6.2865e-01 -2.8021e-01  4.2351e-01  1.1277e-01  1.2121e-03\n",
      "  1.5710e-01 -3.6321e-01 -4.9251e-01  1.1653e-01  2.4024e-01  1.7712e-01\n",
      "  6.8700e-02 -4.4137e-01 -2.9877e-01 -1.2071e-02  2.8325e-01  1.0668e-01\n",
      " -1.8859e-01 -4.1345e-01 -3.4090e-01  4.7236e-02 -3.8309e-01  4.3572e-01\n",
      "  2.4505e-01  2.7337e-01 -7.3038e-02  4.2514e-01 -3.2455e-02 -3.5211e-01\n",
      "  4.5691e-01  1.9433e-01 -1.5230e-01  4.2675e-01  2.8795e-01 -5.5969e-01\n",
      " -1.3031e-01  8.9844e-02  4.2605e-01 -1.9632e-01 -7.1989e-02 -8.0189e-02\n",
      " -3.0425e-01 -4.6190e-01  2.8178e-01 -9.9872e-02  3.5097e-01  1.6123e-01\n",
      " -3.6548e-02 -3.6739e-01 -1.9819e-02  3.2130e-01  1.7479e-01  2.5175e-01\n",
      " -7.6439e-03 -9.3786e-02 -3.7852e-01  4.3725e-01  2.1288e-01  2.5096e-01\n",
      " -1.9613e-01 -2.8865e-01 -5.6726e-03  4.2795e-01  2.0625e-01 -3.7701e-02\n",
      " -1.2200e-01 -7.9253e-02 -1.0290e-01  1.0558e-02  4.9880e-01  2.5382e-01\n",
      "  1.5526e-01  1.7951e-03  1.1633e-01  7.9300e-02 -3.9142e-01 -3.2483e-01\n",
      "  6.3451e-01 -1.8910e-01  5.4050e-02  1.6495e-01  1.8757e-01  5.3874e-01]\n"
     ]
    }
   ],
   "source": [
    "# Word vector\n",
    "\n",
    "doc = nlp('I have a banana')\n",
    "\n",
    "print(doc[0].vector)\n",
    "\n",
    "# print(doc.vector)"
   ]
  },
  {
   "cell_type": "markdown",
   "id": "adjusted-awareness",
   "metadata": {},
   "source": [
    "## Combinig Models and Rules "
   ]
  },
  {
   "cell_type": "code",
   "execution_count": 14,
   "id": "egyptian-serve",
   "metadata": {},
   "outputs": [
    {
     "name": "stdout",
     "output_type": "stream",
     "text": [
      "Matched span: Golden Retriewer\n",
      "Root token: Retriewer\n",
      "Root head token: have\n",
      "Previous token: a 90\n"
     ]
    }
   ],
   "source": [
    "from spacy.matcher import Matcher\n",
    "\n",
    "matcher = Matcher(nlp.vocab)\n",
    "\n",
    "pattern = [{'LOWER': 'golden'}, {'LOWER': 'retriewer'}]\n",
    "\n",
    "matcher.add('Dog', [pattern])\n",
    "\n",
    "doc = nlp('I have a Golden Retriewer')\n",
    "\n",
    "matches = matcher(doc)\n",
    "# print(matches)\n",
    "\n",
    "for match_id, start, end in matches:\n",
    "    \n",
    "    span = doc[start:end]\n",
    "    print('Matched span:', span.text)\n",
    "    \n",
    "    print('Root token:', span.root.text)\n",
    "\n",
    "    print('Root head token:', span.root.head.text)\n",
    "    \n",
    "    print('Previous token:', doc[start-1].text, doc[start-1].pos)"
   ]
  },
  {
   "cell_type": "markdown",
   "id": "laughing-control",
   "metadata": {},
   "source": [
    "### Efficient way is using  pharse matching"
   ]
  },
  {
   "cell_type": "code",
   "execution_count": 15,
   "id": "failing-training",
   "metadata": {},
   "outputs": [
    {
     "name": "stdout",
     "output_type": "stream",
     "text": [
      "Matched span: Golden Retriewer\n"
     ]
    }
   ],
   "source": [
    "from spacy.matcher import PhraseMatcher\n",
    "\n",
    "matcher = PhraseMatcher(nlp.vocab)\n",
    "\n",
    "pattern = nlp('Golden Retriewer')\n",
    "\n",
    "matcher.add('Dog', [pattern])\n",
    "\n",
    "doc = nlp('I have a Golden Retriewer')\n",
    "\n",
    "for match_id, start, end in matcher(doc):\n",
    "    \n",
    "    span = doc[start:end]\n",
    "    print('Matched span:', span.text)"
   ]
  },
  {
   "cell_type": "code",
   "execution_count": null,
   "id": "encouraging-mobility",
   "metadata": {},
   "outputs": [],
   "source": []
  }
 ],
 "metadata": {
  "kernelspec": {
   "display_name": "Python 3",
   "language": "python",
   "name": "python3"
  },
  "language_info": {
   "codemirror_mode": {
    "name": "ipython",
    "version": 3
   },
   "file_extension": ".py",
   "mimetype": "text/x-python",
   "name": "python",
   "nbconvert_exporter": "python",
   "pygments_lexer": "ipython3",
   "version": "3.8.6"
  }
 },
 "nbformat": 4,
 "nbformat_minor": 5
}
